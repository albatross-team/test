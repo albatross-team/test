{
 "cells": [
  {
   "cell_type": "markdown",
   "id": "b6bc3c19",
   "metadata": {},
   "source": [
    "# 프로젝트 작성 시 유의 사항"
   ]
  },
  {
   "cell_type": "markdown",
   "id": "651a27a0",
   "metadata": {},
   "source": [
    "1. 모든 파일 작성은 해당 폴더 내에서 작성 부탁 드립니다.\n",
    "\n",
    "2. 파일 작성 시 함수는 '.py'파일에 저장을 해서 불러오는 방식을 취하시길 바랍니다. 그래야 나중에 코드 리뷰가 쉽고, 유지보수가 쉽습니다.\n",
    "\n",
    "3. main.py 파일에서는 그냥 불러와서 실행시키는 정도로 구현을 해주세요\n",
    "\n",
    "4. 해당 구현 방식에 대한 예시 파일을 첨부하도록 하겠습니다.\n",
    "\n",
    "- P.S 예시 폴더에 참고 문서등 보시고 작성 부탁 드립니다."
   ]
  }
 ],
 "metadata": {
  "language_info": {
   "name": "python"
  }
 },
 "nbformat": 4,
 "nbformat_minor": 5
}
